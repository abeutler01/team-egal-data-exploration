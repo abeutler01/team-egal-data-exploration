{
 "cells": [
  {
   "cell_type": "code",
   "execution_count": 1,
   "metadata": {},
   "outputs": [
    {
     "name": "stdout",
     "output_type": "stream",
     "text": [
      "      index                                               text  cluster\n",
      "0         0                             hi, how are you doing?       36\n",
      "1         1                      i'm fine. how about yourself?       23\n",
      "2         2                i'm pretty good. thanks for asking.       30\n",
      "3         3                  no problem. so how have you been?       14\n",
      "4         4                   i've been great. what about you?       23\n",
      "...     ...                                                ...      ...\n",
      "3719   3719    that's a good question. maybe it's not old age.       34\n",
      "3720   3720                              are you right-handed?       43\n",
      "3721   3721                                  yes. all my life.       54\n",
      "3722   3722  you're wearing out your right hand. stop using...        8\n",
      "3723   3723        but i do all my writing with my right hand.       16\n",
      "\n",
      "[3724 rows x 3 columns]\n"
     ]
    }
   ],
   "source": [
    "import pandas as pd\n",
    "import numpy as np\n",
    "\n",
    "#Import CSV & Clean input\n",
    "cluster_raw = pd.read_csv('cluster_model.csv', sep=',')\n",
    "\n",
    "\n",
    "print(cluster_raw)"
   ]
  },
  {
   "cell_type": "code",
   "execution_count": 2,
   "metadata": {},
   "outputs": [],
   "source": [
    "#Import Spacy & Language Module\n",
    "import spacy\n",
    "nlp = spacy.load(\"en_core_web_sm\")"
   ]
  },
  {
   "cell_type": "code",
   "execution_count": 3,
   "metadata": {},
   "outputs": [],
   "source": [
    "data_cleaned = cluster_raw\n",
    "\n",
    "\n",
    "data_cleaned = data_cleaned.text.apply(lambda text: \" \".join(token.lemma_ for token in nlp(text)))\n",
    "#                                                  if not token.is_punct))\n",
    "\n",
    "#is_stop\n",
    "#These save as strings, not tokens\n",
    "\n"
   ]
  },
  {
   "cell_type": "code",
   "execution_count": 4,
   "metadata": {},
   "outputs": [
    {
     "name": "stderr",
     "output_type": "stream",
     "text": [
      "c:\\users\\beutler\\appdata\\local\\programs\\python\\python38\\lib\\site-packages\\gensim\\similarities\\__init__.py:15: UserWarning: The gensim.similarities.levenshtein submodule is disabled, because the optional Levenshtein package <https://pypi.org/project/python-Levenshtein/> is unavailable. Install Levenhstein (e.g. `pip install python-Levenshtein`) to suppress this warning.\n",
      "  warnings.warn(msg)\n"
     ]
    }
   ],
   "source": [
    "#Import Gensim & Cython (technical support library) \n",
    "import gensim\n",
    "from gensim.models import Word2Vec\n",
    "\n",
    "import Cython"
   ]
  },
  {
   "cell_type": "code",
   "execution_count": 5,
   "metadata": {},
   "outputs": [],
   "source": [
    "#Transform into data useable by Word2Vec\n",
    "data_model = data_cleaned.apply(lambda line: line.split())\n",
    "\n",
    "data_model =  data_model.to_numpy().tolist()\n",
    "\n",
    "#Train Model - Currently 1 iteration:\n",
    "# min_count = minimum # of instances of a word to create a vector (default 5)\n",
    "# vector_size = degrees of freedom (default 100, typically between 10 and a few hundred)\n",
    "# -> Hyperparameters\n",
    "\n",
    "# workers = Core parallelization (enabled by Cython), speeds up training\n",
    "# sg = Training algorythm (here 1 is skip-gram)\n",
    "\n",
    "model_base = Word2Vec(data_model, min_count=10, vector_size=325, workers=4, sg=1 )\n",
    "\n",
    "\n",
    "#Note: Tokens are never equivalent, so they EACH count as a different word\n",
    "# -> Should probably still be implemented, but neads to use the text attribute, rather than the tokens,\n",
    "# needs a different transformation to the current one\n"
   ]
  },
  {
   "cell_type": "code",
   "execution_count": 13,
   "metadata": {},
   "outputs": [
    {
     "name": "stderr",
     "output_type": "stream",
     "text": [
      "c:\\users\\beutler\\appdata\\local\\programs\\python\\python38\\lib\\site-packages\\seaborn\\_decorators.py:36: FutureWarning: Pass the following variables as keyword args: x, y. From version 0.12, the only valid positional argument will be `data`, and passing other arguments without an explicit keyword will result in an error or misinterpretation.\n",
      "  warnings.warn(\n"
     ]
    },
    {
     "data": {
      "image/png": "[encoded data removed]",
      "text/plain": [
       "<Figure size 864x288 with 1 Axes>"
      ]
     },
     "metadata": {
      "needs_background": "light"
     },
     "output_type": "display_data"
    }
   ],
   "source": []
  },
  {
   "cell_type": "code",
   "execution_count": null,
   "metadata": {},
   "outputs": [],
   "source": []
  },
  {
   "cell_type": "code",
   "execution_count": 6,
   "metadata": {},
   "outputs": [],
   "source": [
    "docs_vectors = pd.DataFrame()\n",
    "\n",
    "for line in cluster_raw['text']: #.str.lower().str.replace('[^a-z ]', ''): \n",
    "    \n",
    "    temp = pd.DataFrame() \n",
    "    \n",
    "    for word in line.split(' '):  #satzzeichen nicht getrennt\n",
    "    \n",
    "        try:\n",
    "            word_vec = model_base.wv[word] \n",
    "            temp = temp.append(pd.Series(word_vec), ignore_index = True) \n",
    "        except:\n",
    "            pass\n",
    "          \n",
    "    doc_vector = temp.mean() \n",
    "    docs_vectors = docs_vectors.append(doc_vector, ignore_index = True) \n",
    "    \n",
    "\n",
    "\n",
    "docs_vectors['cluster'] = cluster_raw['cluster']\n",
    "docs_vectors = docs_vectors.dropna()\n",
    "\n",
    "\n"
   ]
  },
  {
   "cell_type": "code",
   "execution_count": 8,
   "metadata": {},
   "outputs": [
    {
     "name": "stdout",
     "output_type": "stream",
     "text": [
      "(2797, 325) (2797,) (700, 325) (700,)\n"
     ]
    }
   ],
   "source": [
    "# Split train / test data\n",
    "from sklearn.model_selection import train_test_split\n",
    "from sklearn.metrics import accuracy_score\n",
    "\n",
    "\n",
    "train_x, test_x, train_y, test_y = train_test_split(docs_vectors.drop('cluster', axis = 1),\n",
    "                                                   docs_vectors['cluster'],\n",
    "                                                   test_size = 0.2,\n",
    "                                                   random_state = 1)\n",
    "\n",
    "print(train_x.shape, train_y.shape, test_x.shape, test_y.shape)\n",
    "\n",
    "\n",
    "\n"
   ]
  },
  {
   "cell_type": "code",
   "execution_count": 28,
   "metadata": {},
   "outputs": [
    {
     "name": "stdout",
     "output_type": "stream",
     "text": [
      "0.13285714285714287\n"
     ]
    }
   ],
   "source": [
    "# Ada-Boost\n",
    "from sklearn.ensemble import AdaBoostClassifier\n",
    "\n",
    "model = AdaBoostClassifier(n_estimators=800, random_state = 1)\n",
    "model.fit(train_x, train_y)\n",
    "test_pred = model.predict(test_x)\n",
    "\n",
    "\n",
    "\n",
    "print(accuracy_score(test_y, test_pred))"
   ]
  },
  {
   "cell_type": "code",
   "execution_count": 29,
   "metadata": {},
   "outputs": [
    {
     "name": "stderr",
     "output_type": "stream",
     "text": [
      "c:\\users\\beutler\\appdata\\local\\programs\\python\\python38\\lib\\site-packages\\sklearn\\neural_network\\_multilayer_perceptron.py:614: ConvergenceWarning: Stochastic Optimizer: Maximum iterations (300) reached and the optimization hasn't converged yet.\n",
      "  warnings.warn(\n"
     ]
    },
    {
     "data": {
      "text/plain": [
       "0.15142857142857144"
      ]
     },
     "execution_count": 29,
     "metadata": {},
     "output_type": "execute_result"
    }
   ],
   "source": [
    "# MLP Neural Network\n",
    "from sklearn.neural_network import MLPClassifier\n",
    "from sklearn.datasets import make_classification\n",
    "from sklearn.model_selection import train_test_split\n",
    "\n",
    "X, y = make_classification(n_samples=100, random_state=1)\n",
    "\n",
    "clf = MLPClassifier(random_state=1, max_iter=300).fit(train_x, train_y)\n",
    "clf.predict_proba(test_x[:1])\n",
    "\n",
    "\n",
    "clf.score(test_x, test_y)"
   ]
  },
  {
   "cell_type": "code",
   "execution_count": 23,
   "metadata": {},
   "outputs": [
    {
     "data": {
      "text/plain": [
       "0.1742857142857143"
      ]
     },
     "execution_count": 23,
     "metadata": {},
     "output_type": "execute_result"
    }
   ],
   "source": [
    "#KNN - beste Laufzeit bisher, mit Abstand\n",
    "from sklearn.neighbors import KNeighborsClassifier\n",
    "neigh = KNeighborsClassifier(n_neighbors=5)\n",
    "neigh.fit(train_x, train_y)\n",
    "\n",
    "neigh.score(test_x, test_y)"
   ]
  },
  {
   "cell_type": "code",
   "execution_count": 37,
   "metadata": {},
   "outputs": [
    {
     "name": "stdout",
     "output_type": "stream",
     "text": [
      "0.13285714285714287\n"
     ]
    }
   ],
   "source": [
    "# Random Forest\n",
    "from sklearn.ensemble import RandomForestClassifier\n",
    "from sklearn.datasets import make_classification\n",
    "X, y = make_classification(n_samples=1000, n_features=4, n_informative=2, n_redundant=0, random_state=0, shuffle=False)\n",
    "clf = RandomForestClassifier(max_depth=6, random_state=0)\n",
    "clf.fit(train_x, train_y)\n",
    "test_pred = model.predict(test_x)\n",
    "\n",
    "\n",
    "\n",
    "print(accuracy_score(test_y, test_pred))\n"
   ]
  },
  {
   "cell_type": "code",
   "execution_count": null,
   "metadata": {},
   "outputs": [],
   "source": [
    "# Hab mal keine Gaus / Zufallsmodelle genommen, wir wussten ja schon dass die nicht wirklich mit unseren Daten funktionieren"
   ]
  }
 ],
 "metadata": {
  "kernelspec": {
   "display_name": "Python 3",
   "language": "python",
   "name": "python3"
  },
  "language_info": {
   "codemirror_mode": {
    "name": "ipython",
    "version": 3
   },
   "file_extension": ".py",
   "mimetype": "text/x-python",
   "name": "python",
   "nbconvert_exporter": "python",
   "pygments_lexer": "ipython3",
   "version": "3.8.3"
  }
 },
 "nbformat": 4,
 "nbformat_minor": 4
}
